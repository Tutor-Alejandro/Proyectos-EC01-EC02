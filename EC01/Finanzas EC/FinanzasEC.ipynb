{
  "nbformat": 4,
  "nbformat_minor": 0,
  "metadata": {
    "colab": {
      "provenance": []
    },
    "kernelspec": {
      "name": "python3",
      "display_name": "Python 3"
    },
    "language_info": {
      "name": "python"
    }
  },
  "cells": [
    {
      "cell_type": "code",
      "source": [
        "#Importar librerias\n",
        "import pandas as pd\n",
        "import numpy as np\n",
        "import glob\n",
        "import os\n",
        "import re"
      ],
      "metadata": {
        "id": "EklSi7-wUvjK"
      },
      "execution_count": null,
      "outputs": []
    },
    {
      "cell_type": "code",
      "source": [
        "#Definir funciones\n",
        "def normalize_ciuu(s: str) -> str:\n",
        "  if pd.isna(s):\n",
        "    return ''\n",
        "  s2 = str(s).upper()\n",
        "  s2 = re.sub(r'[\\.\\s\\-]', '', s2)\n",
        "  return s2\n",
        "\n",
        "def safe_float(x):\n",
        "  try:\n",
        "    return float(x)\n",
        "  except:\n",
        "    return np.nan\n",
        "\n",
        "def find_ruc_across_provinces():\n",
        "  files = glob.glob(\"SRI_RUC_*.csv\")\n",
        "  if not files:\n",
        "    return pd.DataFrame()\n",
        "  parts = []\n",
        "  for f in files:\n",
        "    try:\n",
        "      df = pd.read_csv(f, sep='|', encoding='latin1', dtype={'NUMERO_RUC': str}, low_memory=False)\n",
        "    except Exception as e:\n",
        "      print(f\"Error leyendo {f}: {e}\")\n",
        "      continue\n",
        "    if 'NUMERO_RUC' in df.columns:\n",
        "      df['NUMERO_RUC'] = df['NUMERO_RUC'].astype(str).str.zfill(13)\n",
        "    for col in ['CODIGO_CIIU','DESCRIPCION_PROVINCIA_EST','DESCRIPCION_CANTON_EST']:\n",
        "      if col in df.columns:\n",
        "          df[col] = df[col].astype(str)\n",
        "    parts.append(df)\n",
        "  if not parts:\n",
        "    return pd.DataFrame()\n",
        "  return pd.concat(parts, ignore_index=True)"
      ],
      "metadata": {
        "id": "s1654IKyUthk"
      },
      "execution_count": null,
      "outputs": []
    },
    {
      "cell_type": "code",
      "source": [
        "# Cargar tablas RUC\n",
        "df_ruc_all = find_ruc_across_provinces()\n",
        "if df_ruc_all.empty:\n",
        "  print(\"No se encontraron archivos\")\n",
        "else:\n",
        "  # crear columnas unificadas si existen\n",
        "  if 'NUMERO_RUC' in df_ruc_all.columns:\n",
        "    df_ruc_all['RUC'] = df_ruc_all['NUMERO_RUC'].astype(str).str.zfill(13)\n",
        "  else:\n",
        "    df_ruc_all['RUC'] = df_ruc_all.index.astype(str)\n",
        "\n",
        "  # normalizar CIIU y ubicaciones si existen\n",
        "  if 'CODIGO_CIIU' in df_ruc_all.columns:\n",
        "    df_ruc_all['CODIGO_CIIU'] = df_ruc_all['CODIGO_CIIU'].astype(str).apply(lambda x: normalize_ciuu(x))\n",
        "  else:\n",
        "    df_ruc_all['CODIGO_CIIU'] = ''\n",
        "  if 'DESCRIPCION_PROVINCIA_EST' in df_ruc_all.columns:\n",
        "    df_ruc_all['PROVINCIA'] = df_ruc_all['DESCRIPCION_PROVINCIA_EST'].astype(str).str.upper()\n",
        "  else:\n",
        "    df_ruc_all['PROVINCIA'] = ''\n",
        "  if 'DESCRIPCION_CANTON_EST' in df_ruc_all.columns:\n",
        "    df_ruc_all['CANTON'] = df_ruc_all['DESCRIPCION_CANTON_EST'].astype(str).str.upper()\n",
        "  else:\n",
        "    df_ruc_all['CANTON'] = ''\n",
        "\n",
        "# Inputs del usuario\n",
        "print(\"\\n--- Entradas del usuario ---\")\n",
        "ruc_input = input(\"Ingrese su RUC (13 dígitos): \").strip().zfill(13)\n",
        "year_input = input(\"Ingrese el año fiscal a analizar (ej. 2025): \").strip()\n",
        "try:\n",
        "  year_input_i = int(year_input)\n",
        "except:\n",
        "  print(\"Año inválido, se usará el valor literal ingresado para filtrar.\")\n",
        "  year_input_i = None\n",
        "\n",
        "ventas_user = safe_float(input(\"Ingrese VENTAS_NETAS_TARIFA_GRAVADA (USD): \").strip())\n",
        "compras_user = safe_float(input(\"Ingrese COMPRAS_NETAS_TARIFA_GRAVADA (USD): \").strip())\n",
        "utilidad_antes_impuestos = safe_float(input(\"Ingrese UTILIDAD ANTES DE IMPUESTOS (USD): \").strip())\n",
        "activos_user = safe_float(input(\"Ingrese ACTIVOS (USD): \").strip())\n",
        "patrimonio_user = safe_float(input(\"Ingrese PATRIMONIO (USD): \").strip())\n",
        "utilidad_neta_user = safe_float(input(\"Ingrese UTILIDAD NETA (USD): \").strip())"
      ],
      "metadata": {
        "colab": {
          "base_uri": "https://localhost:8080/"
        },
        "id": "36k26eAeUzG8",
        "outputId": "77d40a43-fc0d-4f52-e143-68b18af430b7"
      },
      "execution_count": null,
      "outputs": [
        {
          "name": "stdout",
          "output_type": "stream",
          "text": [
            "\n",
            "--- Entradas del usuario ---\n",
            "Ingrese su RUC (13 dígitos): 0992349921001\n",
            "Ingrese el año fiscal a analizar (ej. 2025): 2024\n",
            "Ingrese VENTAS_NETAS_TARIFA_GRAVADA (USD): 16863068.61\n",
            "Ingrese COMPRAS_NETAS_TARIFA_GRAVADA (USD): 5000000.00\n",
            "Ingrese UTILIDAD ANTES DE IMPUESTOS (USD): 834064.10\n",
            "Ingrese ACTIVOS (USD): 11235992.76\n",
            "Ingrese PATRIMONIO (USD): 2563502.82\n",
            "Ingrese UTILIDAD NETA (USD): 423161.37\n"
          ]
        }
      ]
    },
    {
      "cell_type": "code",
      "source": [
        "# 2. Encontrar empresa en RUC cargados\n",
        "empresa_row = pd.DataFrame()\n",
        "if not df_ruc_all.empty:\n",
        "  empresa_row = df_ruc_all[df_ruc_all['RUC'] == ruc_input]\n",
        "\n",
        "if empresa_row.empty:\n",
        "  print(\"\\nRUC no encontrado en los archivos SRI_RUC_*.csv.\")\n",
        "  ciiu6_input = input(\"Ingrese manualmente su CIIU6 (ej. C2410): \").strip()\n",
        "  ciiu6_input = normalize_ciuu(ciiu6_input)\n",
        "  provincia_user = input(\"Ingrese su PROVINCIA (ej. SANTA ELENA): \").strip().upper()\n",
        "  canton_user = input(\"Ingrese su CANTON (ej. LA LIBERTAD): \").strip().upper()\n",
        "else:\n",
        "  # tomar primera fila si hay duplicados\n",
        "  emp = empresa_row.iloc[0]\n",
        "  ciiu6_input = emp.get('CODIGO_CIIU', '')\n",
        "  if pd.isna(ciiu6_input) or ciiu6_input == '':\n",
        "    ciiu6_input = input(\"CIIU no registrado: ingrese su CIIU6 (ej. C2410): \").strip()\n",
        "  ciiu6_input = normalize_ciuu(ciiu6_input)\n",
        "  provincia_user = emp.get('PROVINCIA', '').upper()\n",
        "  canton_user = emp.get('CANTON', '').upper()"
      ],
      "metadata": {
        "id": "8TLiYh5bVPtT"
      },
      "execution_count": null,
      "outputs": []
    },
    {
      "cell_type": "code",
      "source": [
        "# 3. Cálculos empresa\n",
        "IVA_RATE = 0.15\n",
        "iva_cobrado_user = ventas_user * IVA_RATE\n",
        "iva_credito_user = compras_user * IVA_RATE\n",
        "iva_a_pagar_user = iva_cobrado_user - iva_credito_user\n",
        "\n",
        "# indicadores financieros de la empresa\n",
        "margen_operacional_user = (utilidad_antes_impuestos / ventas_user) if ventas_user and ventas_user != 0 else np.nan\n",
        "roa_user = (utilidad_neta_user / activos_user) if activos_user and activos_user != 0 else np.nan\n",
        "roe_user = (utilidad_neta_user / patrimonio_user) if patrimonio_user and patrimonio_user != 0 else np.nan"
      ],
      "metadata": {
        "id": "s5LTl3I_VTKp"
      },
      "execution_count": null,
      "outputs": []
    },
    {
      "cell_type": "code",
      "source": [
        "# 4. Cargar datos y filtrar por año y sector\n",
        "if not os.path.exists('bi_ranking.csv'):\n",
        "  print(\"\\nNo se encontró bi_ranking.csv en el directorio. No se podrán extraer benchmarks financieros por CIIU6.\")\n",
        "  bi = pd.DataFrame()\n",
        "else:\n",
        "  bi = pd.read_csv('bi_ranking.csv', low_memory=False, encoding='latin1')\n",
        "  bi.columns = [c.lower() for c in bi.columns]  # normalizar nombres a minúsculas\n",
        "  # columna de año\n",
        "  if 'anio' in bi.columns:\n",
        "    if year_input_i is not None:\n",
        "      bi = bi[bi['anio'] == year_input_i].copy()\n",
        "  # limpiar variable ciiu6\n",
        "  if 'ciiu_n6' in bi.columns:\n",
        "    bi['ciiu_n6_norm'] = bi['ciiu_n6'].astype(str).apply(lambda x: normalize_ciuu(x))\n",
        "  elif 'ciiu_n1' in bi.columns:\n",
        "      # usar n1 en vez de n6\n",
        "    bi['ciiu_n6_norm'] = bi['ciiu_n1'].astype(str).apply(lambda x: normalize_ciuu(x))\n",
        "  else:\n",
        "    bi['ciiu_n6_norm'] = ''\n",
        "  for col in ['margen_operacional','margen_bruto','rent_ope_activo','rent_neta_ventas','roe','roa']:\n",
        "    if col in bi.columns:\n",
        "        bi[col] = pd.to_numeric(bi[col], errors='coerce')\n",
        "\n",
        "# seleccionar filas del mismo sector\n",
        "bench_row = pd.DataFrame()\n",
        "if not bi.empty:\n",
        "  bench_row = bi[bi['ciiu_n6_norm'] == ciiu6_input]\n",
        "\n",
        "# calcular benchmarks agregados por sector promedio\n",
        "bench_agg = {}\n",
        "if not bench_row.empty:\n",
        "  # calcular promedio para cada métrica\n",
        "  for col in ['margen_operacional','rent_ope_activo','rent_neta_ventas','roe','roa']:\n",
        "    if col in bench_row.columns:\n",
        "      val = bench_row[col].mean(skipna=True)\n",
        "      if not np.isnan(val):\n",
        "        bench_agg[col] = val"
      ],
      "metadata": {
        "id": "Vs2LbDvqVXnh"
      },
      "execution_count": null,
      "outputs": []
    },
    {
      "cell_type": "code",
      "source": [
        "# 5. Calcular promedio IVA sector\n",
        "\n",
        "#Ingresar Mes\n",
        "mes_input = int(input(\"Ingrese el mes a analizar (1-12): \"))\n",
        "sri_file='/content/sri_ventas_2025.csv'\n",
        "\n",
        "if os.path.exists(sri_file):\n",
        "  df_sri = pd.read_csv(sri_file, sep='|', encoding='latin1', low_memory=False)\n",
        "  df_sri.columns = [c.upper() for c in df_sri.columns]\n",
        "\n",
        "  # Limpiar columnas\n",
        "  for col in ['VENTAS_NETAS_TARIFA_GRAVADA','COMPRAS_NETAS_TARIFA_GRAVADA','MES','CODIGO_SECTOR_N1','PROVINCIA','CANTON']:\n",
        "    if col not in df_sri.columns:\n",
        "      df_sri[col] = 0 if col=='MES' else ''\n",
        "\n",
        "  df_sri['VENTAS_NETAS_TARIFA_GRAVADA'] = pd.to_numeric(df_sri['VENTAS_NETAS_TARIFA_GRAVADA'].astype(str).str.replace(',','.'), errors='coerce').fillna(0)\n",
        "  df_sri['COMPRAS_NETAS_TARIFA_GRAVADA'] = pd.to_numeric(df_sri['COMPRAS_NETAS_TARIFA_GRAVADA'].astype(str).str.replace(',','.'), errors='coerce').fillna(0)\n",
        "  df_sri['IVA_COBRADO'] = df_sri['VENTAS_NETAS_TARIFA_GRAVADA'] * IVA_RATE\n",
        "  df_sri['IVA_A_PAGAR'] = df_sri['IVA_COBRADO'] - (df_sri['COMPRAS_NETAS_TARIFA_GRAVADA'] * IVA_RATE)\n",
        "\n",
        "  # Filtrar por sector\n",
        "  sec_df = df_sri[(df_sri['CODIGO_SECTOR_N1'].str.upper() == ciiu6_input[0].upper()) & (df_sri['MES']==mes_input)]\n",
        "  avg_iva_sector = sec_df['IVA_A_PAGAR'].mean() if not sec_df.empty else None\n",
        "\n",
        "  # Lintrar por provincia y cantn\n",
        "  prov_df = df_sri[(df_sri['PROVINCIA'].str.upper() == provincia_user) & (df_sri['MES']==mes_input)]\n",
        "  cant_df = df_sri[(df_sri['CANTON'].str.upper() == canton_user) & (df_sri['MES']==mes_input)]\n",
        "  avg_iva_prov = prov_df['IVA_A_PAGAR'].mean() if not prov_df.empty else None\n",
        "  avg_iva_canton = cant_df['IVA_A_PAGAR'].mean() if not cant_df.empty else None\n",
        "\n"
      ],
      "metadata": {
        "colab": {
          "base_uri": "https://localhost:8080/"
        },
        "id": "i_xCfS_PVhH6",
        "outputId": "1898234f-617e-4ed7-f40a-89f1195257bf"
      },
      "execution_count": null,
      "outputs": [
        {
          "name": "stdout",
          "output_type": "stream",
          "text": [
            "Ingrese el mes a analizar (1-12): 5\n"
          ]
        }
      ]
    },
    {
      "cell_type": "code",
      "source": [
        "# 6. Preparar y mostrar resultados\n",
        "print(\"\\n\\n===== RESULTADOS (Análisis financiero y fiscal) =====\\n\")\n",
        "print(f\"RUC analizado: {ruc_input}\")\n",
        "print(f\"Año: {year_input}\")\n",
        "print(f\"CIIU6 usado para comparar (normalizado): {ciiu6_input}\")\n",
        "print(f\"Ubicación (Provincia / Cantón): {provincia_user} / {canton_user}\")\n",
        "print(\"\\n-- Indicadores empresa (ingresados) --\")\n",
        "print(f\"Ventas netas (gravadas): ${ventas_user:,.2f}\")\n",
        "print(f\"Compras netas (gravadas): ${compras_user:,.2f}\")\n",
        "print(f\"IVA cobrado (15%): ${iva_cobrado_user:,.2f}\")\n",
        "print(f\"IVA crédito (15%): ${iva_credito_user:,.2f}\")\n",
        "print(f\"IVA neto (a pagar): ${iva_a_pagar_user:,.2f}\")\n",
        "print(f\"Margen operacional estimado (utilidad antes impuestos / ventas): {margen_operacional_user:.2%}\" if not np.isnan(margen_operacional_user) else \"Margen operativo: N/D\")\n",
        "print(f\"ROA estimado (utilidad neta / activos): {roa_user:.2%}\" if not np.isnan(roa_user) else \"ROA: N/D\")\n",
        "print(f\"ROE estimado (utilidad neta / patrimonio): {roe_user:.2%}\" if not np.isnan(roe_user) else \"ROE: N/D\")\n",
        "\n",
        "print(\"\\n-- Benchmarks sectoriales (bi_ranking por CIIU6 o sector) --\")\n",
        "if bench_agg:\n",
        "  for k,v in bench_agg.items():\n",
        "    label = k.replace('_',' ').title()\n",
        "    print(f\"{label}: {v:.2%}\")\n",
        "else:\n",
        "  print(\"No hay benchmarks\")\n",
        "\n",
        "print(\"\\n-- Promedios IVA (SRI) --\")\n",
        "if avg_iva_sector is not None:\n",
        "  print(f\"Promedio IVA a pagar por sector (letra = '{ciiu6_input}'): ${avg_iva_sector:,.2f}\")\n",
        "else:\n",
        "  print(\"Promedio IVA sectorial: Sin datos (o sri_ventas no disponible).\")\n",
        "if avg_iva_prov is not None:\n",
        "  print(f\"Promedio IVA a pagar en provincia {provincia_user}: ${avg_iva_prov:,.2f}\")\n",
        "if avg_iva_canton is not None:\n",
        "  print(f\"Promedio IVA a pagar en cantón {canton_user}: ${avg_iva_canton:,.2f}\")\n"
      ],
      "metadata": {
        "colab": {
          "base_uri": "https://localhost:8080/"
        },
        "id": "exX4_hP1Vlly",
        "outputId": "e64fc179-5c02-441c-b518-3ff404a6f9bb"
      },
      "execution_count": null,
      "outputs": [
        {
          "output_type": "stream",
          "name": "stdout",
          "text": [
            "\n",
            "\n",
            "===== RESULTADOS (Análisis financiero y fiscal) =====\n",
            "\n",
            "RUC analizado: 0992349921001\n",
            "Año: 2024\n",
            "CIIU6 usado para comparar (normalizado): Q881000\n",
            "Ubicación (Provincia / Cantón): SANTA ELENA / SALINAS\n",
            "\n",
            "-- Indicadores empresa (ingresados) --\n",
            "Ventas netas (gravadas): $16,863,068.61\n",
            "Compras netas (gravadas): $5,000,000.00\n",
            "IVA cobrado (15%): $2,023,568.23\n",
            "IVA crédito (15%): $600,000.00\n",
            "IVA neto (a pagar): $1,423,568.23\n",
            "Margen operacional estimado (utilidad antes impuestos / ventas): 4.95%\n",
            "ROA estimado (utilidad neta / activos): 3.77%\n",
            "ROE estimado (utilidad neta / patrimonio): 16.51%\n",
            "\n",
            "-- Benchmarks sectoriales (bi_ranking por CIIU6 o sector) --\n",
            "Margen Operacional: 124.30%\n",
            "Rent Ope Activo: 219.41%\n",
            "Rent Neta Ventas: 7.74%\n",
            "Roe: 33.07%\n",
            "Roa: 34.96%\n",
            "\n",
            "-- Promedios IVA (SRI) --\n",
            "Promedio IVA a pagar por sector (letra = 'Q881000'): $-71,248.09\n",
            "Promedio IVA a pagar en provincia SANTA ELENA: $-23,271.75\n",
            "Promedio IVA a pagar en cantón SALINAS: $-18,048.44\n"
          ]
        }
      ]
    },
    {
      "cell_type": "code",
      "source": [
        "import matplotlib.pyplot as plt\n",
        "import numpy as np\n",
        "\n",
        "# Ratios de la empresa\n",
        "ratios_empresa = {\n",
        "    'Margen Operacional': margen_operacional_user,\n",
        "    'ROA': roa_user,\n",
        "    'ROE': roe_user}\n",
        "\n",
        "# Promedios sectoriales\n",
        "ratios_sector = {}\n",
        "if not bench_row.empty:\n",
        "  for col, label in [('margen_operacional', 'Margen Operacional'),\n",
        "                      ('roa', 'ROA'),\n",
        "                      ('roe', 'ROE')]:\n",
        "      if col in bench_row.columns:\n",
        "        ratios_sector[label] = bench_row[col].mean(skipna=True)\n",
        "      else:\n",
        "        ratios_sector[label] = np.nan\n",
        "else:\n",
        "  ratios_sector = {label: np.nan for label in ratios_empresa.keys()}\n",
        "\n",
        "# Función para crear un gráfico por ratio\n",
        "def plot_ratio(ratio_label, empresa_val, sector_val):\n",
        "  x = np.arange(2)\n",
        "  values = [empresa_val, sector_val]\n",
        "  labels = ['Su empresa', 'Promedio sector']\n",
        "  colors = ['skyblue', 'lightgreen']\n",
        "\n",
        "  fig, ax = plt.subplots(figsize=(6,4))\n",
        "  bars = ax.bar(x, values, color=colors, width=0.4)\n",
        "\n",
        "  ax.set_ylabel('Valor')\n",
        "  ax.set_title(f'Comparación {ratio_label} vs Sector')\n",
        "  ax.set_xticks(x)\n",
        "  ax.set_xticklabels(labels)\n",
        "  ax.grid(axis='y', linestyle='--', alpha=0.5)\n",
        "\n",
        "  # Añadir valores encima de las barras\n",
        "  for bar in bars:\n",
        "    yval = bar.get_height()\n",
        "    ax.text(bar.get_x() + bar.get_width()/2, yval + 0.01, f'{yval:.2%}', ha='center', fontsize=10)\n",
        "\n",
        "  plt.show()\n",
        "\n",
        "# Generar gráficos individuales\n",
        "plot_ratio('Margen Operacional', ratios_empresa['Margen Operacional'], ratios_sector['Margen Operacional'])\n",
        "plot_ratio('ROA', ratios_empresa['ROA'], ratios_sector['ROA'])\n",
        "plot_ratio('ROE', ratios_empresa['ROE'], ratios_sector['ROE'])\n"
      ],
      "metadata": {
        "colab": {
          "base_uri": "https://localhost:8080/",
          "height": 1000
        },
        "id": "CiwRIrZAVtrq",
        "outputId": "3d3ef70c-af8d-43f6-90ac-d53721e9007b"
      },
      "execution_count": null,
      "outputs": [
        {
          "output_type": "display_data",
          "data": {
            "text/plain": [
              "<Figure size 600x400 with 1 Axes>"
            ],
            "image/png": "[encoded data removed]"
          },
          "metadata": {}
        },
        {
          "output_type": "display_data",
          "data": {
            "text/plain": [
              "<Figure size 600x400 with 1 Axes>"
            ],
            "image/png": "[encoded data removed]"
          },
          "metadata": {}
        },
        {
          "output_type": "display_data",
          "data": {
            "text/plain": [
              "<Figure size 600x400 with 1 Axes>"
            ],
            "image/png": "[encoded data removed]"
          },
          "metadata": {}
        }
      ]
    },
    {
      "cell_type": "code",
      "source": [
        "# 7) Interpretación\n",
        "print(\"\\n\\n INFORME\\n\")\n",
        "\n",
        "# IVA\n",
        "if avg_iva_sector is not None and not np.isnan(avg_iva_sector):\n",
        "  rel_iva_sector = (iva_a_pagar_user - avg_iva_sector) / (abs(avg_iva_sector) if abs(avg_iva_sector)>0 else 1)\n",
        "  if rel_iva_sector > 0.25:\n",
        "    print(\"- IVA: Su IVA a pagar es significativamente mayor que el promedio del sector\")\n",
        "  elif rel_iva_sector > 0.05:\n",
        "    print(\"- IVA: Su IVA a pagar es ligeramente mayor que el promedio del sector\")\n",
        "  elif rel_iva_sector < -0.25:\n",
        "    print(\"- IVA: Su IVA a pagar es significativamente menor que el promedio del sector. Esto puede indicar mayor uso de compras con IVA (más crédito fiscal), menor actividad gravada o diferencias estacionales.\")\n",
        "  elif rel_iva_sector < -0.05:\n",
        "    print(\"- IVA: Su IVA a pagar es ligeramente menor que el promedio del sector\")\n",
        "  else:\n",
        "    print(\"- IVA: Su IVA a pagar es similar al promedio del sector\")\n",
        "else:\n",
        "  print(\"- IVA: No hay promedio sectorial disponible\")\n",
        "\n",
        "# Ratio\n",
        "if bench_agg:\n",
        "  # margin\n",
        "  if 'margen_operacional' in bench_agg and not np.isnan(bench_agg['margen_operacional']) and not np.isnan(margen_operacional_user):\n",
        "    relm = (margen_operacional_user - bench_agg['margen_operacional']) / (abs(bench_agg['margen_operacional']) if abs(bench_agg['margen_operacional'])>0 else 1)\n",
        "    if relm > 0.10:\n",
        "      print(\"- Margen operativo: Su margen es significativamente superior al promedio sectorial - buena eficiencia operacional.\")\n",
        "    elif relm < -0.10:\n",
        "      print(\"- Margen operativo: Su margen es inferior al promedio sectorial - revise costos y precios.\")\n",
        "    else:\n",
        "      print(\"- Margen operativo: Su margen está en línea con el promedio sectorial.\")\n",
        "  # ROA\n",
        "  if 'roa' in bench_agg and not np.isnan(bench_agg['roa']) and not np.isnan(roa_user):\n",
        "    rel_roa = (roa_user - bench_agg['roa']) / (abs(bench_agg['roa']) if abs(bench_agg['roa'])>0 else 1)\n",
        "    if rel_roa > 0.10:\n",
        "      print(\"- ROA: Su rentabilidad sobre activos supera al promedio sectorial - buen uso de activos.\")\n",
        "    elif rel_roa < -0.10:\n",
        "      print(\"- ROA: Su ROA está por debajo del promedio sectorial - evaluar eficiencia en activos.\")\n",
        "    else:\n",
        "      print(\"- ROA: Su ROA está en línea con el promedio sectorial.\")\n",
        "  # ROE\n",
        "  if 'roe' in bench_agg and not np.isnan(bench_agg['roe']) and not np.isnan(roe_user):\n",
        "    rel_roe = (roe_user - bench_agg['roe']) / (abs(bench_agg['roe']) if abs(bench_agg['roe'])>0 else 1)\n",
        "    if rel_roe > 0.10:\n",
        "      print(\"- ROE: Su rentabilidad para el patrimonio es mejor que el promedio sectorial.\")\n",
        "    elif rel_roe < -0.10:\n",
        "      print(\"- ROE: Su ROE es menor que el promedio sectorial.\")\n",
        "    else:\n",
        "      print(\"- ROE: Su ROE está en línea con el promedio sectorial.\")\n",
        "else:\n",
        "    print(\"- Benchmarks financieros no disponibles\")"
      ],
      "metadata": {
        "colab": {
          "base_uri": "https://localhost:8080/"
        },
        "id": "6HXLGLt2JLNo",
        "outputId": "53f19448-bbbf-4b15-8d46-665a10ae1eab"
      },
      "execution_count": null,
      "outputs": [
        {
          "output_type": "stream",
          "name": "stdout",
          "text": [
            "\n",
            "\n",
            " INFORME\n",
            "\n",
            "- IVA: Su IVA a pagar es significativamente mayor que el promedio del sector\n",
            "- Margen operativo: Su margen es inferior al promedio sectorial - revise costos y precios.\n",
            "- ROA: Su ROA está por debajo del promedio sectorial - evaluar eficiencia en activos.\n",
            "- ROE: Su ROE es menor que el promedio sectorial.\n"
          ]
        }
      ]
    }
  ]
}